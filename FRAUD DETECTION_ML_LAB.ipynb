{
 "cells": [
  {
   "cell_type": "code",
   "execution_count": 1,
   "metadata": {},
   "outputs": [],
   "source": [
    "import pandas as pd\n",
    "import numpy as np\n",
    "import seaborn as sns\n",
    "import matplotlib.pyplot as plt\n",
    "from sklearn.model_selection import train_test_split\n",
    "from sklearn.naive_bayes import GaussianNB\n",
    "import sklearn.preprocessing as pre\n",
    "from sklearn.neighbors import KNeighborsClassifier\n",
    "from sklearn import metrics\n",
    "from sklearn.preprocessing import StandardScaler\n"
   ]
  },
  {
   "cell_type": "code",
   "execution_count": 2,
   "metadata": {},
   "outputs": [],
   "source": [
    "data=pd.read_csv(\"insurance_claims.csv\")"
   ]
  },
  {
   "cell_type": "code",
   "execution_count": 3,
   "metadata": {},
   "outputs": [
    {
     "data": {
      "text/html": [
       "<div>\n",
       "<style scoped>\n",
       "    .dataframe tbody tr th:only-of-type {\n",
       "        vertical-align: middle;\n",
       "    }\n",
       "\n",
       "    .dataframe tbody tr th {\n",
       "        vertical-align: top;\n",
       "    }\n",
       "\n",
       "    .dataframe thead th {\n",
       "        text-align: right;\n",
       "    }\n",
       "</style>\n",
       "<table border=\"1\" class=\"dataframe\">\n",
       "  <thead>\n",
       "    <tr style=\"text-align: right;\">\n",
       "      <th></th>\n",
       "      <th>months_as_customer</th>\n",
       "      <th>age</th>\n",
       "      <th>policy_number</th>\n",
       "      <th>policy_bind_date</th>\n",
       "      <th>policy_state</th>\n",
       "      <th>policy_csl</th>\n",
       "      <th>policy_deductable</th>\n",
       "      <th>policy_annual_premium</th>\n",
       "      <th>umbrella_limit</th>\n",
       "      <th>insured_zip</th>\n",
       "      <th>...</th>\n",
       "      <th>witnesses</th>\n",
       "      <th>police_report_available</th>\n",
       "      <th>total_claim_amount</th>\n",
       "      <th>injury_claim</th>\n",
       "      <th>property_claim</th>\n",
       "      <th>vehicle_claim</th>\n",
       "      <th>auto_make</th>\n",
       "      <th>auto_model</th>\n",
       "      <th>auto_year</th>\n",
       "      <th>fraud_reported</th>\n",
       "    </tr>\n",
       "  </thead>\n",
       "  <tbody>\n",
       "    <tr>\n",
       "      <th>0</th>\n",
       "      <td>328</td>\n",
       "      <td>48</td>\n",
       "      <td>521585</td>\n",
       "      <td>17-10-2014</td>\n",
       "      <td>OH</td>\n",
       "      <td>250/500</td>\n",
       "      <td>1000</td>\n",
       "      <td>1406.91</td>\n",
       "      <td>0</td>\n",
       "      <td>466132</td>\n",
       "      <td>...</td>\n",
       "      <td>2</td>\n",
       "      <td>YES</td>\n",
       "      <td>71610</td>\n",
       "      <td>6510</td>\n",
       "      <td>13020</td>\n",
       "      <td>52080</td>\n",
       "      <td>Saab</td>\n",
       "      <td>92x</td>\n",
       "      <td>2004</td>\n",
       "      <td>Y</td>\n",
       "    </tr>\n",
       "    <tr>\n",
       "      <th>1</th>\n",
       "      <td>228</td>\n",
       "      <td>42</td>\n",
       "      <td>342868</td>\n",
       "      <td>27-06-2006</td>\n",
       "      <td>IN</td>\n",
       "      <td>250/500</td>\n",
       "      <td>2000</td>\n",
       "      <td>1197.22</td>\n",
       "      <td>5000000</td>\n",
       "      <td>468176</td>\n",
       "      <td>...</td>\n",
       "      <td>0</td>\n",
       "      <td>?</td>\n",
       "      <td>5070</td>\n",
       "      <td>780</td>\n",
       "      <td>780</td>\n",
       "      <td>3510</td>\n",
       "      <td>Mercedes</td>\n",
       "      <td>E400</td>\n",
       "      <td>2007</td>\n",
       "      <td>Y</td>\n",
       "    </tr>\n",
       "    <tr>\n",
       "      <th>2</th>\n",
       "      <td>134</td>\n",
       "      <td>29</td>\n",
       "      <td>687698</td>\n",
       "      <td>06-09-2000</td>\n",
       "      <td>OH</td>\n",
       "      <td>100/300</td>\n",
       "      <td>2000</td>\n",
       "      <td>1413.14</td>\n",
       "      <td>5000000</td>\n",
       "      <td>430632</td>\n",
       "      <td>...</td>\n",
       "      <td>3</td>\n",
       "      <td>NO</td>\n",
       "      <td>34650</td>\n",
       "      <td>7700</td>\n",
       "      <td>3850</td>\n",
       "      <td>23100</td>\n",
       "      <td>Dodge</td>\n",
       "      <td>RAM</td>\n",
       "      <td>2007</td>\n",
       "      <td>N</td>\n",
       "    </tr>\n",
       "    <tr>\n",
       "      <th>3</th>\n",
       "      <td>256</td>\n",
       "      <td>41</td>\n",
       "      <td>227811</td>\n",
       "      <td>25-05-1990</td>\n",
       "      <td>IL</td>\n",
       "      <td>250/500</td>\n",
       "      <td>2000</td>\n",
       "      <td>1415.74</td>\n",
       "      <td>6000000</td>\n",
       "      <td>608117</td>\n",
       "      <td>...</td>\n",
       "      <td>2</td>\n",
       "      <td>NO</td>\n",
       "      <td>63400</td>\n",
       "      <td>6340</td>\n",
       "      <td>6340</td>\n",
       "      <td>50720</td>\n",
       "      <td>Chevrolet</td>\n",
       "      <td>Tahoe</td>\n",
       "      <td>2014</td>\n",
       "      <td>Y</td>\n",
       "    </tr>\n",
       "    <tr>\n",
       "      <th>4</th>\n",
       "      <td>228</td>\n",
       "      <td>44</td>\n",
       "      <td>367455</td>\n",
       "      <td>06-06-2014</td>\n",
       "      <td>IL</td>\n",
       "      <td>500/1000</td>\n",
       "      <td>1000</td>\n",
       "      <td>1583.91</td>\n",
       "      <td>6000000</td>\n",
       "      <td>610706</td>\n",
       "      <td>...</td>\n",
       "      <td>1</td>\n",
       "      <td>NO</td>\n",
       "      <td>6500</td>\n",
       "      <td>1300</td>\n",
       "      <td>650</td>\n",
       "      <td>4550</td>\n",
       "      <td>Accura</td>\n",
       "      <td>RSX</td>\n",
       "      <td>2009</td>\n",
       "      <td>N</td>\n",
       "    </tr>\n",
       "    <tr>\n",
       "      <th>...</th>\n",
       "      <td>...</td>\n",
       "      <td>...</td>\n",
       "      <td>...</td>\n",
       "      <td>...</td>\n",
       "      <td>...</td>\n",
       "      <td>...</td>\n",
       "      <td>...</td>\n",
       "      <td>...</td>\n",
       "      <td>...</td>\n",
       "      <td>...</td>\n",
       "      <td>...</td>\n",
       "      <td>...</td>\n",
       "      <td>...</td>\n",
       "      <td>...</td>\n",
       "      <td>...</td>\n",
       "      <td>...</td>\n",
       "      <td>...</td>\n",
       "      <td>...</td>\n",
       "      <td>...</td>\n",
       "      <td>...</td>\n",
       "      <td>...</td>\n",
       "    </tr>\n",
       "    <tr>\n",
       "      <th>995</th>\n",
       "      <td>3</td>\n",
       "      <td>38</td>\n",
       "      <td>941851</td>\n",
       "      <td>16-07-1991</td>\n",
       "      <td>OH</td>\n",
       "      <td>500/1000</td>\n",
       "      <td>1000</td>\n",
       "      <td>1310.80</td>\n",
       "      <td>0</td>\n",
       "      <td>431289</td>\n",
       "      <td>...</td>\n",
       "      <td>1</td>\n",
       "      <td>?</td>\n",
       "      <td>87200</td>\n",
       "      <td>17440</td>\n",
       "      <td>8720</td>\n",
       "      <td>61040</td>\n",
       "      <td>Honda</td>\n",
       "      <td>Accord</td>\n",
       "      <td>2006</td>\n",
       "      <td>N</td>\n",
       "    </tr>\n",
       "    <tr>\n",
       "      <th>996</th>\n",
       "      <td>285</td>\n",
       "      <td>41</td>\n",
       "      <td>186934</td>\n",
       "      <td>05-01-2014</td>\n",
       "      <td>IL</td>\n",
       "      <td>100/300</td>\n",
       "      <td>1000</td>\n",
       "      <td>1436.79</td>\n",
       "      <td>0</td>\n",
       "      <td>608177</td>\n",
       "      <td>...</td>\n",
       "      <td>3</td>\n",
       "      <td>?</td>\n",
       "      <td>108480</td>\n",
       "      <td>18080</td>\n",
       "      <td>18080</td>\n",
       "      <td>72320</td>\n",
       "      <td>Volkswagen</td>\n",
       "      <td>Passat</td>\n",
       "      <td>2015</td>\n",
       "      <td>N</td>\n",
       "    </tr>\n",
       "    <tr>\n",
       "      <th>997</th>\n",
       "      <td>130</td>\n",
       "      <td>34</td>\n",
       "      <td>918516</td>\n",
       "      <td>17-02-2003</td>\n",
       "      <td>OH</td>\n",
       "      <td>250/500</td>\n",
       "      <td>500</td>\n",
       "      <td>1383.49</td>\n",
       "      <td>3000000</td>\n",
       "      <td>442797</td>\n",
       "      <td>...</td>\n",
       "      <td>3</td>\n",
       "      <td>YES</td>\n",
       "      <td>67500</td>\n",
       "      <td>7500</td>\n",
       "      <td>7500</td>\n",
       "      <td>52500</td>\n",
       "      <td>Suburu</td>\n",
       "      <td>Impreza</td>\n",
       "      <td>1996</td>\n",
       "      <td>N</td>\n",
       "    </tr>\n",
       "    <tr>\n",
       "      <th>998</th>\n",
       "      <td>458</td>\n",
       "      <td>62</td>\n",
       "      <td>533940</td>\n",
       "      <td>18-11-2011</td>\n",
       "      <td>IL</td>\n",
       "      <td>500/1000</td>\n",
       "      <td>2000</td>\n",
       "      <td>1356.92</td>\n",
       "      <td>5000000</td>\n",
       "      <td>441714</td>\n",
       "      <td>...</td>\n",
       "      <td>1</td>\n",
       "      <td>YES</td>\n",
       "      <td>46980</td>\n",
       "      <td>5220</td>\n",
       "      <td>5220</td>\n",
       "      <td>36540</td>\n",
       "      <td>Audi</td>\n",
       "      <td>A5</td>\n",
       "      <td>1998</td>\n",
       "      <td>N</td>\n",
       "    </tr>\n",
       "    <tr>\n",
       "      <th>999</th>\n",
       "      <td>456</td>\n",
       "      <td>60</td>\n",
       "      <td>556080</td>\n",
       "      <td>11-11-1996</td>\n",
       "      <td>OH</td>\n",
       "      <td>250/500</td>\n",
       "      <td>1000</td>\n",
       "      <td>766.19</td>\n",
       "      <td>0</td>\n",
       "      <td>612260</td>\n",
       "      <td>...</td>\n",
       "      <td>3</td>\n",
       "      <td>?</td>\n",
       "      <td>5060</td>\n",
       "      <td>460</td>\n",
       "      <td>920</td>\n",
       "      <td>3680</td>\n",
       "      <td>Mercedes</td>\n",
       "      <td>E400</td>\n",
       "      <td>2007</td>\n",
       "      <td>N</td>\n",
       "    </tr>\n",
       "  </tbody>\n",
       "</table>\n",
       "<p>1000 rows × 39 columns</p>\n",
       "</div>"
      ],
      "text/plain": [
       "     months_as_customer  age  policy_number policy_bind_date policy_state  \\\n",
       "0                   328   48         521585       17-10-2014           OH   \n",
       "1                   228   42         342868       27-06-2006           IN   \n",
       "2                   134   29         687698       06-09-2000           OH   \n",
       "3                   256   41         227811       25-05-1990           IL   \n",
       "4                   228   44         367455       06-06-2014           IL   \n",
       "..                  ...  ...            ...              ...          ...   \n",
       "995                   3   38         941851       16-07-1991           OH   \n",
       "996                 285   41         186934       05-01-2014           IL   \n",
       "997                 130   34         918516       17-02-2003           OH   \n",
       "998                 458   62         533940       18-11-2011           IL   \n",
       "999                 456   60         556080       11-11-1996           OH   \n",
       "\n",
       "    policy_csl  policy_deductable  policy_annual_premium  umbrella_limit  \\\n",
       "0      250/500               1000                1406.91               0   \n",
       "1      250/500               2000                1197.22         5000000   \n",
       "2      100/300               2000                1413.14         5000000   \n",
       "3      250/500               2000                1415.74         6000000   \n",
       "4     500/1000               1000                1583.91         6000000   \n",
       "..         ...                ...                    ...             ...   \n",
       "995   500/1000               1000                1310.80               0   \n",
       "996    100/300               1000                1436.79               0   \n",
       "997    250/500                500                1383.49         3000000   \n",
       "998   500/1000               2000                1356.92         5000000   \n",
       "999    250/500               1000                 766.19               0   \n",
       "\n",
       "     insured_zip  ... witnesses police_report_available total_claim_amount  \\\n",
       "0         466132  ...         2                     YES              71610   \n",
       "1         468176  ...         0                       ?               5070   \n",
       "2         430632  ...         3                      NO              34650   \n",
       "3         608117  ...         2                      NO              63400   \n",
       "4         610706  ...         1                      NO               6500   \n",
       "..           ...  ...       ...                     ...                ...   \n",
       "995       431289  ...         1                       ?              87200   \n",
       "996       608177  ...         3                       ?             108480   \n",
       "997       442797  ...         3                     YES              67500   \n",
       "998       441714  ...         1                     YES              46980   \n",
       "999       612260  ...         3                       ?               5060   \n",
       "\n",
       "    injury_claim property_claim  vehicle_claim   auto_make auto_model  \\\n",
       "0           6510          13020          52080        Saab        92x   \n",
       "1            780            780           3510    Mercedes       E400   \n",
       "2           7700           3850          23100       Dodge        RAM   \n",
       "3           6340           6340          50720   Chevrolet      Tahoe   \n",
       "4           1300            650           4550      Accura        RSX   \n",
       "..           ...            ...            ...         ...        ...   \n",
       "995        17440           8720          61040       Honda     Accord   \n",
       "996        18080          18080          72320  Volkswagen     Passat   \n",
       "997         7500           7500          52500      Suburu    Impreza   \n",
       "998         5220           5220          36540        Audi         A5   \n",
       "999          460            920           3680    Mercedes       E400   \n",
       "\n",
       "    auto_year fraud_reported  \n",
       "0        2004              Y  \n",
       "1        2007              Y  \n",
       "2        2007              N  \n",
       "3        2014              Y  \n",
       "4        2009              N  \n",
       "..        ...            ...  \n",
       "995      2006              N  \n",
       "996      2015              N  \n",
       "997      1996              N  \n",
       "998      1998              N  \n",
       "999      2007              N  \n",
       "\n",
       "[1000 rows x 39 columns]"
      ]
     },
     "execution_count": 3,
     "metadata": {},
     "output_type": "execute_result"
    }
   ],
   "source": [
    "data"
   ]
  },
  {
   "cell_type": "code",
   "execution_count": 4,
   "metadata": {},
   "outputs": [
    {
     "name": "stdout",
     "output_type": "stream",
     "text": [
      "<class 'pandas.core.frame.DataFrame'>\n",
      "RangeIndex: 1000 entries, 0 to 999\n",
      "Data columns (total 39 columns):\n",
      " #   Column                       Non-Null Count  Dtype  \n",
      "---  ------                       --------------  -----  \n",
      " 0   months_as_customer           1000 non-null   int64  \n",
      " 1   age                          1000 non-null   int64  \n",
      " 2   policy_number                1000 non-null   int64  \n",
      " 3   policy_bind_date             1000 non-null   object \n",
      " 4   policy_state                 1000 non-null   object \n",
      " 5   policy_csl                   1000 non-null   object \n",
      " 6   policy_deductable            1000 non-null   int64  \n",
      " 7   policy_annual_premium        1000 non-null   float64\n",
      " 8   umbrella_limit               1000 non-null   int64  \n",
      " 9   insured_zip                  1000 non-null   int64  \n",
      " 10  insured_sex                  1000 non-null   object \n",
      " 11  insured_education_level      1000 non-null   object \n",
      " 12  insured_occupation           1000 non-null   object \n",
      " 13  insured_hobbies              1000 non-null   object \n",
      " 14  insured_relationship         1000 non-null   object \n",
      " 15  capital-gains                1000 non-null   int64  \n",
      " 16  capital-loss                 1000 non-null   int64  \n",
      " 17  incident_date                1000 non-null   object \n",
      " 18  incident_type                1000 non-null   object \n",
      " 19  collision_type               1000 non-null   object \n",
      " 20  incident_severity            1000 non-null   object \n",
      " 21  authorities_contacted        1000 non-null   object \n",
      " 22  incident_state               1000 non-null   object \n",
      " 23  incident_city                1000 non-null   object \n",
      " 24  incident_location            1000 non-null   object \n",
      " 25  incident_hour_of_the_day     1000 non-null   int64  \n",
      " 26  number_of_vehicles_involved  1000 non-null   int64  \n",
      " 27  property_damage              1000 non-null   object \n",
      " 28  bodily_injuries              1000 non-null   int64  \n",
      " 29  witnesses                    1000 non-null   int64  \n",
      " 30  police_report_available      1000 non-null   object \n",
      " 31  total_claim_amount           1000 non-null   int64  \n",
      " 32  injury_claim                 1000 non-null   int64  \n",
      " 33  property_claim               1000 non-null   int64  \n",
      " 34  vehicle_claim                1000 non-null   int64  \n",
      " 35  auto_make                    1000 non-null   object \n",
      " 36  auto_model                   1000 non-null   object \n",
      " 37  auto_year                    1000 non-null   int64  \n",
      " 38  fraud_reported               1000 non-null   object \n",
      "dtypes: float64(1), int64(17), object(21)\n",
      "memory usage: 304.8+ KB\n"
     ]
    }
   ],
   "source": [
    "data.info()"
   ]
  },
  {
   "cell_type": "code",
   "execution_count": 5,
   "metadata": {},
   "outputs": [],
   "source": [
    "cat_df=data.select_dtypes(exclude=[\"float64\",\"int64\"])\n",
    "num_df=data.select_dtypes(include=[\"float64\",\"int64\"])"
   ]
  },
  {
   "cell_type": "code",
   "execution_count": 6,
   "metadata": {},
   "outputs": [],
   "source": [
    "data = data.replace('?',np.NaN)"
   ]
  },
  {
   "cell_type": "code",
   "execution_count": 7,
   "metadata": {},
   "outputs": [],
   "source": [
    "# we will replace the '?' by the most common collision type as we are unaware of the type.\n",
    "data['collision_type'].fillna(data['collision_type'].mode()[0], inplace = True)"
   ]
  },
  {
   "cell_type": "code",
   "execution_count": 8,
   "metadata": {},
   "outputs": [],
   "source": [
    "# It may be the case that there are no responses for property damage then we might take it as No property damage.\n",
    "data['property_damage'].fillna('NO', inplace = True)"
   ]
  },
  {
   "cell_type": "code",
   "execution_count": 9,
   "metadata": {},
   "outputs": [],
   "source": [
    "# again, if there are no responses fpr police report available then we might take it as No report available\n",
    "data['police_report_available'].fillna('NO', inplace = True)"
   ]
  },
  {
   "cell_type": "code",
   "execution_count": 10,
   "metadata": {},
   "outputs": [
    {
     "data": {
      "text/plain": [
       "False"
      ]
     },
     "execution_count": 10,
     "metadata": {},
     "output_type": "execute_result"
    }
   ],
   "source": [
    "data.isnull().any().any()"
   ]
  },
  {
   "cell_type": "markdown",
   "metadata": {},
   "source": [
    "## EDA"
   ]
  },
  {
   "cell_type": "code",
   "execution_count": 11,
   "metadata": {},
   "outputs": [
    {
     "data": {
      "text/plain": [
       "Index(['months_as_customer', 'age', 'policy_number', 'policy_deductable',\n",
       "       'policy_annual_premium', 'umbrella_limit', 'insured_zip',\n",
       "       'capital-gains', 'capital-loss', 'incident_hour_of_the_day',\n",
       "       'number_of_vehicles_involved', 'bodily_injuries', 'witnesses',\n",
       "       'total_claim_amount', 'injury_claim', 'property_claim', 'vehicle_claim',\n",
       "       'auto_year'],\n",
       "      dtype='object')"
      ]
     },
     "execution_count": 11,
     "metadata": {},
     "output_type": "execute_result"
    }
   ],
   "source": [
    "num_df.columns"
   ]
  },
  {
   "cell_type": "code",
   "execution_count": 12,
   "metadata": {},
   "outputs": [
    {
     "data": {
      "text/plain": [
       "Index(['policy_bind_date', 'policy_state', 'policy_csl', 'insured_sex',\n",
       "       'insured_education_level', 'insured_occupation', 'insured_hobbies',\n",
       "       'insured_relationship', 'incident_date', 'incident_type',\n",
       "       'collision_type', 'incident_severity', 'authorities_contacted',\n",
       "       'incident_state', 'incident_city', 'incident_location',\n",
       "       'property_damage', 'police_report_available', 'auto_make', 'auto_model',\n",
       "       'fraud_reported'],\n",
       "      dtype='object')"
      ]
     },
     "execution_count": 12,
     "metadata": {},
     "output_type": "execute_result"
    }
   ],
   "source": [
    "cat_df.columns"
   ]
  },
  {
   "cell_type": "code",
   "execution_count": 13,
   "metadata": {},
   "outputs": [
    {
     "data": {
      "text/plain": [
       "N    753\n",
       "Y    247\n",
       "Name: fraud_reported, dtype: int64"
      ]
     },
     "execution_count": 13,
     "metadata": {},
     "output_type": "execute_result"
    },
    {
     "data": {
      "image/png": "[encoded data removed]",
      "text/plain": [
       "<Figure size 432x288 with 1 Axes>"
      ]
     },
     "metadata": {
      "needs_background": "light"
     },
     "output_type": "display_data"
    }
   ],
   "source": [
    "sns.countplot(x='fraud_reported',data=data)\n",
    "plt.rcParams[\"figure.figsize\"] = [5,5]\n",
    "data['fraud_reported'].value_counts()"
   ]
  },
  {
   "cell_type": "markdown",
   "metadata": {},
   "source": [
    "Here you can observe that the classes of the output variable is not proportionate"
   ]
  },
  {
   "cell_type": "code",
   "execution_count": 59,
   "metadata": {},
   "outputs": [
    {
     "data": {
      "image/png": "[encoded data removed]",
      "text/plain": [
       "<Figure size 720x720 with 2 Axes>"
      ]
     },
     "metadata": {
      "needs_background": "light"
     },
     "output_type": "display_data"
    }
   ],
   "source": [
    "sns.heatmap(num_df.corr(), cmap=\"YlGnBu\")\n",
    "plt.rcParams[\"figure.figsize\"] = [10,10]"
   ]
  },
  {
   "cell_type": "markdown",
   "metadata": {},
   "source": [
    "Here you can observe that total_claim_amount, injury_claim, property_claim, vehicle_claim are high correlated to eachother\n",
    "and they are slightly correlated with incident_hour_of_the_day,number_of_vehicles_involved .\n",
    "Age and month_as_customers are also highly correlated for obvious reasons."
   ]
  },
  {
   "cell_type": "code",
   "execution_count": 15,
   "metadata": {},
   "outputs": [
    {
     "data": {
      "text/plain": [
       "FEMALE    537\n",
       "MALE      463\n",
       "Name: insured_sex, dtype: int64"
      ]
     },
     "execution_count": 15,
     "metadata": {},
     "output_type": "execute_result"
    },
    {
     "data": {
      "image/png": "[encoded data removed]",
      "text/plain": [
       "<Figure size 720x720 with 1 Axes>"
      ]
     },
     "metadata": {
      "needs_background": "light"
     },
     "output_type": "display_data"
    }
   ],
   "source": [
    "sns.countplot(x='insured_sex',hue=\"fraud_reported\",data=data)\n",
    "plt.rcParams[\"figure.figsize\"] = [5,5]\n",
    "data[\"insured_sex\"].value_counts()"
   ]
  },
  {
   "cell_type": "markdown",
   "metadata": {},
   "source": [
    "The dataset contains more number of females and we can observe that the count of men and women who has commited fraud is equal, \n",
    "which implies fraud is irrespective of the gender. "
   ]
  },
  {
   "cell_type": "code",
   "execution_count": 16,
   "metadata": {},
   "outputs": [
    {
     "data": {
      "text/plain": [
       "<matplotlib.axes._subplots.AxesSubplot at 0x1ed46165250>"
      ]
     },
     "execution_count": 16,
     "metadata": {},
     "output_type": "execute_result"
    },
    {
     "data": {
      "image/png": "[encoded data removed]",
      "text/plain": [
       "<Figure size 360x360 with 1 Axes>"
      ]
     },
     "metadata": {
      "needs_background": "light"
     },
     "output_type": "display_data"
    }
   ],
   "source": [
    "sns.barplot(x='insured_sex',y='total_claim_amount',hue='fraud_reported',data=data)"
   ]
  },
  {
   "cell_type": "markdown",
   "metadata": {},
   "source": [
    "The average annual policy premium is same for both the classes."
   ]
  },
  {
   "cell_type": "code",
   "execution_count": 17,
   "metadata": {},
   "outputs": [
    {
     "data": {
      "text/plain": [
       "<seaborn.axisgrid.FacetGrid at 0x1ed45eace50>"
      ]
     },
     "execution_count": 17,
     "metadata": {},
     "output_type": "execute_result"
    },
    {
     "data": {
      "image/png": "[encoded data removed]",
      "text/plain": [
       "<Figure size 360x360 with 1 Axes>"
      ]
     },
     "metadata": {
      "needs_background": "light"
     },
     "output_type": "display_data"
    }
   ],
   "source": [
    "sns.catplot(data=data,x=\"fraud_reported\",y='policy_annual_premium',kind=\"bar\")"
   ]
  },
  {
   "cell_type": "markdown",
   "metadata": {},
   "source": [
    "The average annual policy premium is same for both the classes. "
   ]
  },
  {
   "cell_type": "code",
   "execution_count": 18,
   "metadata": {},
   "outputs": [
    {
     "data": {
      "image/png": "[encoded data removed]",
      "text/plain": [
       "<Figure size 360x360 with 1 Axes>"
      ]
     },
     "metadata": {
      "needs_background": "light"
     },
     "output_type": "display_data"
    }
   ],
   "source": [
    "sns.countplot(x='insured_education_level',hue='fraud_reported',data=data)\n",
    "plt.rcParams[\"figure.figsize\"] = [8,8]"
   ]
  },
  {
   "cell_type": "markdown",
   "metadata": {},
   "source": [
    "Here we can observe that JD education level commit more fraud that others"
   ]
  },
  {
   "cell_type": "code",
   "execution_count": 19,
   "metadata": {},
   "outputs": [
    {
     "data": {
      "text/plain": [
       "(array([ 0,  1,  2,  3,  4,  5,  6,  7,  8,  9, 10, 11, 12, 13]),\n",
       " <a list of 14 Text major ticklabel objects>)"
      ]
     },
     "execution_count": 19,
     "metadata": {},
     "output_type": "execute_result"
    },
    {
     "data": {
      "image/png": "[encoded data removed]",
      "text/plain": [
       "<Figure size 576x576 with 1 Axes>"
      ]
     },
     "metadata": {
      "needs_background": "light"
     },
     "output_type": "display_data"
    }
   ],
   "source": [
    "sns.countplot(x='insured_occupation',hue='fraud_reported',data=data)\n",
    "plt.rcParams[\"figure.figsize\"] = [10,10]\n",
    "plt.xticks(rotation=90)"
   ]
  },
  {
   "cell_type": "markdown",
   "metadata": {},
   "source": [
    "Here we can observe that exec-managerial education level commit more fraud that others."
   ]
  },
  {
   "cell_type": "code",
   "execution_count": 20,
   "metadata": {},
   "outputs": [
    {
     "data": {
      "text/plain": [
       "(array([ 0,  1,  2,  3,  4,  5,  6,  7,  8,  9, 10, 11, 12, 13, 14, 15, 16,\n",
       "        17, 18, 19]),\n",
       " <a list of 20 Text major ticklabel objects>)"
      ]
     },
     "execution_count": 20,
     "metadata": {},
     "output_type": "execute_result"
    },
    {
     "data": {
      "image/png": "[encoded data removed]",
      "text/plain": [
       "<Figure size 720x720 with 1 Axes>"
      ]
     },
     "metadata": {
      "needs_background": "light"
     },
     "output_type": "display_data"
    }
   ],
   "source": [
    "sns.countplot(x='insured_hobbies',hue='fraud_reported',data=data)\n",
    "plt.rcParams[\"figure.figsize\"] = [10,10]\n",
    "plt.xticks(rotation=90)\n"
   ]
  },
  {
   "cell_type": "markdown",
   "metadata": {},
   "source": [
    "People who play more chess are claimed more fraudulent followed by crossfit"
   ]
  },
  {
   "cell_type": "code",
   "execution_count": 21,
   "metadata": {},
   "outputs": [
    {
     "data": {
      "image/png": "[encoded data removed]",
      "text/plain": [
       "<Figure size 720x720 with 1 Axes>"
      ]
     },
     "metadata": {
      "needs_background": "light"
     },
     "output_type": "display_data"
    }
   ],
   "source": [
    "sns.countplot(x='insured_relationship',hue='fraud_reported',data=data)\n",
    "plt.rcParams[\"figure.figsize\"] = [10,10]"
   ]
  },
  {
   "cell_type": "markdown",
   "metadata": {},
   "source": [
    "Insurance Holders having insured relationship as other-relative are more likely to commit fraud. "
   ]
  },
  {
   "cell_type": "code",
   "execution_count": 22,
   "metadata": {},
   "outputs": [
    {
     "data": {
      "image/png": "[encoded data removed]",
      "text/plain": [
       "<Figure size 720x720 with 1 Axes>"
      ]
     },
     "metadata": {
      "needs_background": "light"
     },
     "output_type": "display_data"
    }
   ],
   "source": [
    "sns.countplot(x='incident_severity',hue='fraud_reported',data=data)\n",
    "plt.rcParams[\"figure.figsize\"] = [10,10]"
   ]
  },
  {
   "cell_type": "markdown",
   "metadata": {},
   "source": [
    "Accident severity reported as major damage is more likely to commit fraud."
   ]
  },
  {
   "cell_type": "code",
   "execution_count": 23,
   "metadata": {},
   "outputs": [
    {
     "data": {
      "image/png": "[encoded data removed]",
      "text/plain": [
       "<Figure size 1152x576 with 1 Axes>"
      ]
     },
     "metadata": {
      "needs_background": "light"
     },
     "output_type": "display_data"
    }
   ],
   "source": [
    "plt.figure(figsize=(16,8))\n",
    "plt.title(\"Count plot of Auto make which have Fraud claim\",fontsize=20)\n",
    "sns.countplot('auto_make',data=data)\n",
    "plt.xticks(rotation=45)\n",
    "plt.grid(True)\n",
    "plt.show()"
   ]
  },
  {
   "cell_type": "markdown",
   "metadata": {},
   "source": [
    "Auto make of 'Ford' and 'Mercedes' are having highest Fraud claim, 'Chevorlet' and 'Audi' also seems to be claimed equally having Fraud claims"
   ]
  },
  {
   "cell_type": "markdown",
   "metadata": {},
   "source": [
    "## UNDERSAMPLING"
   ]
  },
  {
   "cell_type": "markdown",
   "metadata": {},
   "source": [
    "Find Number of samples from each criteria"
   ]
  },
  {
   "cell_type": "code",
   "execution_count": 24,
   "metadata": {},
   "outputs": [],
   "source": [
    "df=data"
   ]
  },
  {
   "cell_type": "code",
   "execution_count": 25,
   "metadata": {},
   "outputs": [
    {
     "data": {
      "text/plain": [
       "753"
      ]
     },
     "execution_count": 25,
     "metadata": {},
     "output_type": "execute_result"
    }
   ],
   "source": [
    "no_fraud = len(df[df['fraud_reported'] == \"N\"])\n",
    "no_fraud"
   ]
  },
  {
   "cell_type": "code",
   "execution_count": 26,
   "metadata": {},
   "outputs": [
    {
     "data": {
      "text/plain": [
       "247"
      ]
     },
     "execution_count": 26,
     "metadata": {},
     "output_type": "execute_result"
    }
   ],
   "source": [
    "yes_fraud = len(df[df['fraud_reported'] == \"Y\"])\n",
    "yes_fraud"
   ]
  },
  {
   "cell_type": "markdown",
   "metadata": {},
   "source": [
    "Get indices of not fraud samples"
   ]
  },
  {
   "cell_type": "code",
   "execution_count": 27,
   "metadata": {},
   "outputs": [
    {
     "data": {
      "text/plain": [
       "Int64Index([  2,   4,   6,   7,   8,   9,  10,  11,  12,  13,\n",
       "            ...\n",
       "            990, 991, 992, 993, 994, 995, 996, 997, 998, 999],\n",
       "           dtype='int64', length=753)"
      ]
     },
     "execution_count": 27,
     "metadata": {},
     "output_type": "execute_result"
    }
   ],
   "source": [
    "no_fraud_indices = df[df.fraud_reported == \"N\"].index\n",
    "no_fraud_indices"
   ]
  },
  {
   "cell_type": "markdown",
   "metadata": {},
   "source": [
    "Random sample indices"
   ]
  },
  {
   "cell_type": "code",
   "execution_count": 28,
   "metadata": {},
   "outputs": [
    {
     "data": {
      "text/plain": [
       "array([408, 385, 916, 301, 393, 951, 971, 464, 315, 934, 267, 444, 892,\n",
       "       485, 562, 488,  37, 159, 675, 239, 647, 274, 976, 484, 376, 664,\n",
       "       545, 285, 260,  78,  80, 723, 827, 910,  81, 655, 899, 918, 389,\n",
       "       158,  87, 204, 550, 999, 362, 260, 903, 381, 485, 758, 418, 760,\n",
       "       776, 199, 795, 759, 323, 800, 804, 321,  92, 181, 636, 621, 760,\n",
       "       464, 285, 376,  98,  13, 221, 153, 491, 464, 746, 493, 888, 312,\n",
       "       170, 852, 996,   2, 110, 180, 923, 162, 335, 806, 224, 420, 608,\n",
       "       697, 933, 894, 726, 677, 157, 230, 720, 811, 226, 532, 516, 820,\n",
       "       948, 472,  90, 240, 618, 569, 509, 267, 409, 748, 410, 605, 524,\n",
       "       923, 725, 232, 799, 826, 536, 438, 536, 527, 192, 497, 714, 423,\n",
       "       885, 134, 114, 581, 716, 685,  67, 870, 486, 323, 202, 169,  67,\n",
       "       786, 800, 877, 464, 296, 968, 542, 101, 353, 205,  72, 527, 780,\n",
       "       945, 229, 993, 898, 720, 735, 678, 844, 954, 137, 114, 876, 114,\n",
       "       757, 754, 592, 110, 270, 301, 495, 113,  94, 191, 375, 564, 954,\n",
       "       896, 175, 530, 797, 238, 780, 313, 514, 102,  81, 537, 862, 387,\n",
       "       874, 175, 157,  28, 619,  78, 637, 229,  12, 814,  85, 723, 290,\n",
       "       996, 317,  53,  75, 557, 490, 104, 794, 500, 783, 598,  57, 855,\n",
       "       584, 209, 228, 537, 507, 221, 418,  53, 522, 934, 353, 871, 551,\n",
       "        16, 265,   8, 133, 625, 719, 655, 693,  87,  51,  55,  85, 366],\n",
       "      dtype=int64)"
      ]
     },
     "execution_count": 28,
     "metadata": {},
     "output_type": "execute_result"
    }
   ],
   "source": [
    "random_indices = np.random.choice(no_fraud_indices,yes_fraud)\n",
    "random_indices"
   ]
  },
  {
   "cell_type": "markdown",
   "metadata": {},
   "source": [
    "Find the indices of fraud samples"
   ]
  },
  {
   "cell_type": "code",
   "execution_count": 29,
   "metadata": {},
   "outputs": [],
   "source": [
    "fraud_indices = df[df.fraud_reported == \"Y\"].index"
   ]
  },
  {
   "cell_type": "markdown",
   "metadata": {},
   "source": [
    "Concat default indices with sample fraud ones"
   ]
  },
  {
   "cell_type": "code",
   "execution_count": 30,
   "metadata": {},
   "outputs": [],
   "source": [
    "under_sample_indices = np.concatenate([fraud_indices,random_indices])"
   ]
  },
  {
   "cell_type": "code",
   "execution_count": 31,
   "metadata": {},
   "outputs": [],
   "source": [
    "under_sample = df.loc[under_sample_indices]"
   ]
  },
  {
   "cell_type": "code",
   "execution_count": 32,
   "metadata": {},
   "outputs": [
    {
     "data": {
      "text/plain": [
       "N    247\n",
       "Y    247\n",
       "Name: fraud_reported, dtype: int64"
      ]
     },
     "execution_count": 32,
     "metadata": {},
     "output_type": "execute_result"
    }
   ],
   "source": [
    "under_sample[\"fraud_reported\"].value_counts()"
   ]
  },
  {
   "cell_type": "code",
   "execution_count": 33,
   "metadata": {},
   "outputs": [
    {
     "data": {
      "text/plain": [
       "<matplotlib.axes._subplots.AxesSubplot at 0x1ed465ba0a0>"
      ]
     },
     "execution_count": 33,
     "metadata": {},
     "output_type": "execute_result"
    },
    {
     "data": {
      "image/png": "[encoded data removed]",
      "text/plain": [
       "<Figure size 720x720 with 1 Axes>"
      ]
     },
     "metadata": {
      "needs_background": "light"
     },
     "output_type": "display_data"
    }
   ],
   "source": [
    "under_sample[\"fraud_reported\"].value_counts().plot.bar()"
   ]
  },
  {
   "cell_type": "code",
   "execution_count": 34,
   "metadata": {},
   "outputs": [],
   "source": [
    "le=pre.LabelEncoder()\n",
    "for i in cat_df.columns:\n",
    "    under_sample[i]=le.fit_transform(under_sample[i])"
   ]
  },
  {
   "cell_type": "markdown",
   "metadata": {
    "id": "7WBie3wQGiz9"
   },
   "source": [
    "## Machine Learning Modeling"
   ]
  },
  {
   "cell_type": "code",
   "execution_count": 37,
   "metadata": {},
   "outputs": [],
   "source": [
    "from sklearn.preprocessing import StandardScaler\n",
    "sc=StandardScaler()\n"
   ]
  },
  {
   "cell_type": "code",
   "execution_count": 38,
   "metadata": {
    "id": "VzuBQ7ZUGiz9"
   },
   "outputs": [],
   "source": [
    "x_scale=sc.fit_transform(under_sample)"
   ]
  },
  {
   "cell_type": "code",
   "execution_count": 39,
   "metadata": {
    "id": "aFXe4jiYGiz-"
   },
   "outputs": [],
   "source": [
    "from sklearn.decomposition import PCA\n",
    "pca=PCA(n_components=0.95)\n",
    "x_scaled=pca.fit_transform(x_scale)\n",
    "outcome=under_sample[\"fraud_reported\"]"
   ]
  },
  {
   "cell_type": "code",
   "execution_count": 40,
   "metadata": {
    "id": "IiQvfNZ2Giz_"
   },
   "outputs": [],
   "source": [
    "r=pca.explained_variance_ratio_"
   ]
  },
  {
   "cell_type": "code",
   "execution_count": 41,
   "metadata": {
    "id": "ZQuOCrKJGiz_",
    "outputId": "7caac5a6-e6c4-4ab8-9160-f1d9b9dfba40"
   },
   "outputs": [
    {
     "data": {
      "text/plain": [
       "0.9540629790541922"
      ]
     },
     "execution_count": 41,
     "metadata": {},
     "output_type": "execute_result"
    }
   ],
   "source": [
    "np.sum(r)"
   ]
  },
  {
   "cell_type": "code",
   "execution_count": 42,
   "metadata": {
    "id": "yzJHA9ljGi0A",
    "outputId": "f1d5a47a-daf8-4782-a45e-a861b3635021"
   },
   "outputs": [
    {
     "data": {
      "text/plain": [
       "32"
      ]
     },
     "execution_count": 42,
     "metadata": {},
     "output_type": "execute_result"
    }
   ],
   "source": [
    "len(r)"
   ]
  },
  {
   "cell_type": "markdown",
   "metadata": {
    "id": "GuJD7iikGi0A"
   },
   "source": [
    "1039 features are converted into 944 principal components which constitutes 95.02% variance.\n",
    "\n",
    "The explained variance tells how much information (variance) can be attributed to each of the principal components"
   ]
  },
  {
   "cell_type": "code",
   "execution_count": 43,
   "metadata": {
    "id": "dGKtmNOmGi0A"
   },
   "outputs": [],
   "source": [
    "from sklearn.model_selection import train_test_split\n",
    "x_train,x_test,y_train,y_test=train_test_split(x_scaled,outcome,test_size=0.3)"
   ]
  },
  {
   "cell_type": "code",
   "execution_count": 44,
   "metadata": {
    "id": "QqIuA_B0Gi0B"
   },
   "outputs": [],
   "source": [
    "from sklearn.ensemble import RandomForestClassifier"
   ]
  },
  {
   "cell_type": "code",
   "execution_count": 45,
   "metadata": {
    "id": "Jm3M78P-Gi0B"
   },
   "outputs": [],
   "source": [
    "rf=RandomForestClassifier()"
   ]
  },
  {
   "cell_type": "code",
   "execution_count": 46,
   "metadata": {
    "id": "1qTZ_AdqGi0E"
   },
   "outputs": [],
   "source": [
    "#Hyperparamenter tuning\n",
    "from sklearn.model_selection import GridSearchCV\n",
    "parameters={'criterion':['gini','entropy'], 'max_depth': np.arange(1,30)}"
   ]
  },
  {
   "cell_type": "code",
   "execution_count": 47,
   "metadata": {
    "id": "SEltDFyOGi0E"
   },
   "outputs": [],
   "source": [
    "grid=GridSearchCV(rf,parameters)"
   ]
  },
  {
   "cell_type": "code",
   "execution_count": 48,
   "metadata": {
    "id": "m2c4IttbGi0F",
    "outputId": "3fcb137b-1ddd-4892-ccb8-8401588a3d22"
   },
   "outputs": [
    {
     "data": {
      "text/plain": [
       "GridSearchCV(estimator=RandomForestClassifier(),\n",
       "             param_grid={'criterion': ['gini', 'entropy'],\n",
       "                         'max_depth': array([ 1,  2,  3,  4,  5,  6,  7,  8,  9, 10, 11, 12, 13, 14, 15, 16, 17,\n",
       "       18, 19, 20, 21, 22, 23, 24, 25, 26, 27, 28, 29])})"
      ]
     },
     "execution_count": 48,
     "metadata": {},
     "output_type": "execute_result"
    }
   ],
   "source": [
    "grid.fit(x_train,y_train)"
   ]
  },
  {
   "cell_type": "code",
   "execution_count": 49,
   "metadata": {
    "id": "fOiSDjFWGi0G"
   },
   "outputs": [],
   "source": [
    "model=grid.best_estimator_"
   ]
  },
  {
   "cell_type": "code",
   "execution_count": 50,
   "metadata": {
    "id": "oz8e0oJmGi0G",
    "outputId": "602773f6-1ecb-4df2-e80e-6bd0eb296d0a"
   },
   "outputs": [
    {
     "data": {
      "text/plain": [
       "0.9246376811594204"
      ]
     },
     "execution_count": 50,
     "metadata": {},
     "output_type": "execute_result"
    }
   ],
   "source": [
    "grid.best_score_"
   ]
  },
  {
   "cell_type": "code",
   "execution_count": 51,
   "metadata": {
    "id": "neWAnWrfGi0H"
   },
   "outputs": [],
   "source": [
    "y_pred=model.predict(x_test)"
   ]
  },
  {
   "cell_type": "code",
   "execution_count": 52,
   "metadata": {
    "id": "JgaT2xioGi0I",
    "outputId": "6ed0e57a-03bf-488d-f278-8e63f9a7716d"
   },
   "outputs": [
    {
     "data": {
      "text/plain": [
       "0.8859060402684564"
      ]
     },
     "execution_count": 52,
     "metadata": {},
     "output_type": "execute_result"
    }
   ],
   "source": [
    "from sklearn.metrics import accuracy_score\n",
    "accuracy_score(y_test,y_pred)"
   ]
  },
  {
   "cell_type": "code",
   "execution_count": 53,
   "metadata": {
    "id": "Y3R-w94tGi0I",
    "outputId": "b4b40b64-f34f-4004-f20b-84cc800120fe"
   },
   "outputs": [
    {
     "data": {
      "text/plain": [
       "<matplotlib.axes._subplots.AxesSubplot at 0x1ed489ed2e0>"
      ]
     },
     "execution_count": 53,
     "metadata": {},
     "output_type": "execute_result"
    },
    {
     "data": {
      "image/png": "[encoded data removed]",
      "text/plain": [
       "<Figure size 720x720 with 2 Axes>"
      ]
     },
     "metadata": {
      "needs_background": "light"
     },
     "output_type": "display_data"
    }
   ],
   "source": [
    "from sklearn.metrics import confusion_matrix,classification_report\n",
    "\n",
    "cm=confusion_matrix(y_pred,y_test)\n",
    "sns.heatmap(cm,annot=True)"
   ]
  },
  {
   "cell_type": "code",
   "execution_count": 54,
   "metadata": {
    "id": "dy6mujTtGi0K",
    "outputId": "c0fee7a8-2959-4a4d-c145-b8b44f70b3a3"
   },
   "outputs": [
    {
     "name": "stdout",
     "output_type": "stream",
     "text": [
      "              precision    recall  f1-score   support\n",
      "\n",
      "           0       0.86      0.92      0.89        74\n",
      "           1       0.91      0.85      0.88        75\n",
      "\n",
      "    accuracy                           0.89       149\n",
      "   macro avg       0.89      0.89      0.89       149\n",
      "weighted avg       0.89      0.89      0.89       149\n",
      "\n"
     ]
    }
   ],
   "source": [
    "clf=classification_report(y_pred,y_test)\n",
    "print(clf)"
   ]
  },
  {
   "cell_type": "code",
   "execution_count": null,
   "metadata": {},
   "outputs": [],
   "source": []
  },
  {
   "cell_type": "code",
   "execution_count": null,
   "metadata": {},
   "outputs": [],
   "source": []
  },
  {
   "cell_type": "code",
   "execution_count": null,
   "metadata": {},
   "outputs": [],
   "source": []
  },
  {
   "cell_type": "code",
   "execution_count": null,
   "metadata": {},
   "outputs": [],
   "source": []
  }
 ],
 "metadata": {
  "kernelspec": {
   "display_name": "Python 3",
   "language": "python",
   "name": "python3"
  },
  "language_info": {
   "codemirror_mode": {
    "name": "ipython",
    "version": 3
   },
   "file_extension": ".py",
   "mimetype": "text/x-python",
   "name": "python",
   "nbconvert_exporter": "python",
   "pygments_lexer": "ipython3",
   "version": "3.8.3"
  }
 },
 "nbformat": 4,
 "nbformat_minor": 4
}
